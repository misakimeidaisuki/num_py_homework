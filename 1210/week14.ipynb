{
  "nbformat": 4,
  "nbformat_minor": 0,
  "metadata": {
    "colab": {
      "name": "Lagrange Multiplier 2.ipynb",
      "version": "0.3.2",
      "provenance": [],
      "collapsed_sections": []
    },
    "kernelspec": {
      "name": "python3",
      "display_name": "Python 3"
    }
  },
  "cells": [
    {
      "metadata": {
        "id": "DXzEanR8yIeS",
        "colab_type": "text"
      },
      "cell_type": "markdown",
      "source": [
        "#Optimization problem\n",
        ">[wiki](https://en.wikipedia.org/wiki/Optimization_problem) <br>\n",
        "\n",
        ">The standard form of a continuous optimization problem is[1]\n",
        "\n",
        ">$$\n",
        "\\begin{aligned}&{\\underset {x}{\\operatorname {minimize} }}&&f(x)\\\\&\\operatorname {subject\\;to} &&g_{i}(x)\\leq 0,\\quad i=1,\\dots ,m\\\\&&&h_{j}(x)=0,\\quad j=1,\\dots ,p\\end{aligned}\n",
        "$$\n",
        "\n",
        "\n",
        ">where :\n",
        "\n",
        "> * $ f:\\mathbb {R} ^{n}\\to \\mathbb {R}  $  is the objective function to be minimized over the n-variable vector $ {\\displaystyle x},$<br>\n",
        "> * $g_{i}(x)\\leq 0 $are called inequality constraints<br>\n",
        "> * ${\\displaystyle h_{j}(x)=0}$ are called equality constraints, and ${\\displaystyle m\\geq 0\\ and\\ p\\geq 0}.$<br>\n",
        "\n",
        ">If ${\\displaystyle m}$ and ${\\displaystyle p}$ equal 0, the problem is an unconstrained optimization problem. \n",
        "By convention, the standard form defines a minimization problem. A maximization problem can be treated by negating the objective function.\n",
        "\n",
        "\n",
        "\n",
        "#Calculus I - Optimization - Pauls Online Math Notes\n",
        "\n",
        "> We have a piece of cardboard that is 14 inches by 10 inches and we’re going to cut out the corners as shown below and fold up the sides to form a box, also shown below. Determine the height of the box that will give a maximum volume.\n",
        "\n",
        "\n",
        "1. Define the optimization problem by Mathematic equations.\n",
        "\n",
        "2. one variable  method: using constraint to replace one variable \n",
        "\n",
        ">>2.1 run tensorflow gradient descent to answer the question.\n",
        "\n",
        ">>2.2 run genetic algorithm answer the question.\n",
        "\n",
        ">![img](http://tutorial.math.lamar.edu/Classes/CalcI/Optimization_Files/image006.gif)\n",
        "\n",
        ">Let’s let the height of the box be $h$ . So, the width/length of the corners being cut out is also h and so the vertical side will have a “new” height of $10−2h$ and the horizontal side will have a “new” width of $14−2h$. \n",
        "\n",
        ">Here is a sketch with all this information put in\n",
        "\n",
        ">![img](http://tutorial.math.lamar.edu/Classes/CalcI/Optimization_Files/image007.png)\n",
        "\n",
        ">In this example, for the first time, we’ve run into a problem where the constraint doesn’t really have an equation. The constraint is simply the size of the piece of cardboard and has already been factored into the figure above. This will happen on occasion and so don’t get excited about it when it does. This just means that we have one less equation to worry about. In this case we want to maximize the volume. Here is the volume, in terms of $h$ and its first derivative.\n",
        "\n",
        ">>$V(h)=h(14−2h)(10−2h)=140h−48h^2+4h^3 $<br>\n",
        "\n",
        "\n",
        ">>$h = \\frac{{12 \\pm \\sqrt {39} }}{3} = 1.9183,\\,\\,\\,\\,6.0817$\n",
        "\n",
        "\n",
        "\n",
        ">We now have an apparent problem. We have two critical points and we’ll need to determine which one is the value we need. The fact that we have two critical points means that neither the first derivative test or the second derivative test can be used here as they both require a single critical point. This isn’t a real problem however. Go back to the figure at the start of the solution and notice that we can quite easily find limits on h. The smallest h can be is h=0 even though this doesn’t make much sense as we won’t get a box in this case. Also, from the 10 inch side we can see that the largest h can be is $h=5$ although again, this doesn’t make much sense physically.\n",
        "\n",
        ">So, knowing that whatever $h$ is it must be in the range $0≤h≤5$  we can see that the second critical point is outside this range and so the only critical point that we need to worry about is 1.9183.\n",
        "\n",
        ">Finally, since the volume is defined and continuous on $0≤h≤5$ all we need to do is plug in the critical points and endpoints into the volume to determine which gives the largest volume. Here are those function evaluations.\n",
        ">>$\n",
        "V\\left( 0 \\right) = 0\\hspace{0.25in}\\hspace{0.25in}V\\left( {1.9183} \\right) = 120.1644\\hspace{0.25in}\\hspace{0.25in}V\\left( 5 \\right) = 0\n",
        "$\n",
        "\n",
        ">So, if we take $h=1.9183$ we get a maximum volume."
      ]
    },
    {
      "metadata": {
        "id": "aWh3ClwPtUY8",
        "colab_type": "code",
        "colab": {
          "base_uri": "https://localhost:8080/",
          "height": 304
        },
        "outputId": "08f57b2d-bf83-44dd-fc35-62d4c00c42f7"
      },
      "cell_type": "code",
      "source": [
        "import tensorflow as tf\n",
        "import numpy as np\n",
        "\n",
        "%matplotlib inline\n",
        "import pylab\n",
        "\n",
        "#math function\n",
        "def func_q1(h):\n",
        "  return 140*h-48*h**2+4*h**3\n",
        "\n",
        "\n",
        "x_data = np.linspace(-5, 5, 1000)\n",
        "y_data = func_q1(x_data)\n",
        "# Uncomment the following line to plot our input data.\n",
        "pylab.plot(x_data, y_data, '.')\n",
        "pylab.legend()\n",
        "pylab.xlim(-1, 5)\n",
        "pylab.ylim(-100, 150)"
      ],
      "execution_count": 12,
      "outputs": [
        {
          "output_type": "stream",
          "text": [
            "No handles with labels found to put in legend.\n"
          ],
          "name": "stderr"
        },
        {
          "output_type": "execute_result",
          "data": {
            "text/plain": [
              "(-100, 150)"
            ]
          },
          "metadata": {
            "tags": []
          },
          "execution_count": 12
        },
        {
          "output_type": "display_data",
          "data": {
            "image/png": "[encoded data removed]",
            "text/plain": [
              "<matplotlib.figure.Figure at 0x7f3f2e2cfc50>"
            ]
          },
          "metadata": {
            "tags": []
          }
        }
      ]
    },
    {
      "metadata": {
        "id": "-aGu3kpPtnfE",
        "colab_type": "code",
        "colab": {
          "base_uri": "https://localhost:8080/",
          "height": 729
        },
        "outputId": "265a9d9b-571e-4b89-e4a5-78e4b1e544d9"
      },
      "cell_type": "code",
      "source": [
        "\"\"\"\n",
        "2. one variable  method: using constraint to replace one variable \n",
        "   Run tensorflow gradient descent to answer the question.\n",
        "   Code by tenserflow\n",
        "\"\"\"\n",
        "\n",
        "h = tf.Variable(tf.random_uniform([1], -5, 5.0))\n",
        "\n",
        "\n",
        "func_tf = 1000000-func_q1(h)\n",
        "\n",
        "loss = func_tf \n",
        "optimizer = tf.train.GradientDescentOptimizer(0.01) \n",
        "train = optimizer.minimize(loss)\n",
        "init = tf.initialize_all_variables()\n",
        "\n",
        "print(\"loss:\", loss)\n",
        "print(\"optimizer:\", optimizer)\n",
        "print(\"train:\", train)\n",
        "#print(init)\n",
        "\n",
        "# 1.6 Create a session and launch the graph.\n",
        "sess = tf.Session()\n",
        "sess.run(init)\n",
        "\n",
        "#print(sess.run([h]))\n",
        "\n",
        "print(\"tf運算過程==========\")\n",
        "for step in range(30):\n",
        "    sess.run(train)\n",
        "    print(sess.run([h]))\n",
        "    \n",
        "print(\"\\ntf運算結果==========\")\n",
        "result = sess.run([h])\n",
        "result_h = np.array2string(result[0][0])\n",
        "print(\"h = \"+result_h)\n",
        "print(\"V = \"+str(func_q1(result[0][0])))"
      ],
      "execution_count": 44,
      "outputs": [
        {
          "output_type": "stream",
          "text": [
            "loss: Tensor(\"sub_61:0\", shape=(1,), dtype=float32)\n",
            "optimizer: <tensorflow.python.training.gradient_descent.GradientDescentOptimizer object at 0x7f3f17d7b320>\n",
            "train: name: \"GradientDescent_31\"\n",
            "op: \"NoOp\"\n",
            "input: \"^GradientDescent_31/update_Variable_34/ApplyGradientDescent\"\n",
            "\n",
            "tf運算過程==========\n",
            "[array([1.7082663], dtype=float32)]\n",
            "[array([1.8185115], dtype=float32)]\n",
            "[array([1.8695785], dtype=float32)]\n",
            "[array([1.8942219], dtype=float32)]\n",
            "[array([1.906338], dtype=float32)]\n",
            "[array([1.9123484], dtype=float32)]\n",
            "[array([1.915343], dtype=float32)]\n",
            "[array([1.9168384], dtype=float32)]\n",
            "[array([1.917586], dtype=float32)]\n",
            "[array([1.9179598], dtype=float32)]\n",
            "[array([1.9181467], dtype=float32)]\n",
            "[array([1.9182403], dtype=float32)]\n",
            "[array([1.9182872], dtype=float32)]\n",
            "[array([1.9183105], dtype=float32)]\n",
            "[array([1.9183223], dtype=float32)]\n",
            "[array([1.9183283], dtype=float32)]\n",
            "[array([1.9183311], dtype=float32)]\n",
            "[array([1.9183326], dtype=float32)]\n",
            "[array([1.9183333], dtype=float32)]\n",
            "[array([1.9183336], dtype=float32)]\n",
            "[array([1.9183338], dtype=float32)]\n",
            "[array([1.9183339], dtype=float32)]\n",
            "[array([1.918334], dtype=float32)]\n",
            "[array([1.918334], dtype=float32)]\n",
            "[array([1.918334], dtype=float32)]\n",
            "[array([1.918334], dtype=float32)]\n",
            "[array([1.918334], dtype=float32)]\n",
            "[array([1.918334], dtype=float32)]\n",
            "[array([1.918334], dtype=float32)]\n",
            "[array([1.918334], dtype=float32)]\n",
            "\n",
            "tf運算結果==========\n",
            "h = 1.918334\n",
            "V = 120.16442131482593\n"
          ],
          "name": "stdout"
        }
      ]
    },
    {
      "metadata": {
        "id": "mJebvi3Fz8G5",
        "colab_type": "code",
        "colab": {
          "base_uri": "https://localhost:8080/",
          "height": 86
        },
        "outputId": "b60167df-0791-483b-a957-002b95bed728"
      },
      "cell_type": "code",
      "source": [
        "#安裝 Gaft 套件\n",
        "!pip install gaft"
      ],
      "execution_count": 45,
      "outputs": [
        {
          "output_type": "stream",
          "text": [
            "Collecting gaft\n",
            "  Downloading https://files.pythonhosted.org/packages/4a/6f/b53b385957188b880f39359e765bc2ed4c757ee64b2ae5ef5cdca7f87ce8/gaft-0.5.7-py3-none-any.whl\n",
            "Installing collected packages: gaft\n",
            "Successfully installed gaft-0.5.7\n"
          ],
          "name": "stdout"
        }
      ]
    },
    {
      "metadata": {
        "id": "ml-q-pKl00qN",
        "colab_type": "code",
        "colab": {
          "base_uri": "https://localhost:8080/",
          "height": 503
        },
        "outputId": "104cb72f-9db8-4b87-9e58-745c9cd66ac7"
      },
      "cell_type": "code",
      "source": [
        "\"\"\"\n",
        "2. one variable  method: using constraint to replace one variable \n",
        "   run genetic algorithm answer the question.\n",
        "   Code by GAFT基因演算法\n",
        "\"\"\"\n",
        "\n",
        "from math import sin, cos, pi\n",
        "\n",
        "from gaft import GAEngine\n",
        "from gaft.components import BinaryIndividual\n",
        "from gaft.components import Population\n",
        "from gaft.operators import TournamentSelection\n",
        "from gaft.operators import UniformCrossover\n",
        "from gaft.operators import FlipBitBigMutation\n",
        "\n",
        "# Built-in best fitness analysis.\n",
        "from gaft.analysis.fitness_store import FitnessStore\n",
        "from gaft.analysis.console_output import ConsoleOutput\n",
        "\n",
        "\n",
        "indv_template = BinaryIndividual(ranges=[(-5, 5)], eps=0.001)\n",
        "population = Population(indv_template=indv_template, size=50).init()\n",
        "\n",
        "selection = TournamentSelection()\n",
        "crossover = UniformCrossover(pc=0.8, pe=0.5)\n",
        "mutation = FlipBitBigMutation(pm=0.1, pbm=0.55, alpha=0.6)\n",
        "\n",
        "engine = GAEngine(population=population, selection=selection,\n",
        "                  crossover=crossover, mutation=mutation,\n",
        "                  analysis=[ConsoleOutput, FitnessStore])\n",
        "\n",
        "# Define fitness function.\n",
        "@engine.fitness_register\n",
        "def fitness(indv):\n",
        "    h, = indv.solution\n",
        "    return func_q1(h)\n",
        "\n",
        "if '__main__' == __name__:\n",
        "  print(\"GAFT運算過程==========\")\n",
        "  engine.run(ng=20)\n",
        "  print(\"\\nGAFT運算結果==========\")\n",
        "  from best_fit import *\n",
        "  \n",
        "  result_h = str(best_fit[-1][1][0])\n",
        "  result_v = str(best_fit[-1][2])\n",
        "  print(\"h = \"+result_h)\n",
        "  print(\"V = \"+result_v)"
      ],
      "execution_count": 62,
      "outputs": [
        {
          "output_type": "stream",
          "text": [
            "GAFT運算過程==========\n",
            "gaft.ConsoleOutput   INFO     Generation number: 20 Population number: 50\n",
            "gaft.ConsoleOutput   INFO     Generation: 1, best fitness: 119.847, scaled fitness: 119.847\n",
            "gaft.ConsoleOutput   INFO     Generation: 2, best fitness: 120.150, scaled fitness: 120.150\n",
            "gaft.ConsoleOutput   INFO     Generation: 3, best fitness: 120.158, scaled fitness: 120.158\n",
            "gaft.ConsoleOutput   INFO     Generation: 4, best fitness: 120.158, scaled fitness: 120.158\n",
            "gaft.ConsoleOutput   INFO     Generation: 5, best fitness: 120.164, scaled fitness: 120.164\n",
            "gaft.ConsoleOutput   INFO     Generation: 6, best fitness: 120.164, scaled fitness: 120.164\n",
            "gaft.ConsoleOutput   INFO     Generation: 7, best fitness: 120.164, scaled fitness: 120.164\n",
            "gaft.ConsoleOutput   INFO     Generation: 8, best fitness: 120.164, scaled fitness: 120.164\n",
            "gaft.ConsoleOutput   INFO     Generation: 9, best fitness: 120.164, scaled fitness: 120.164\n",
            "gaft.ConsoleOutput   INFO     Generation: 10, best fitness: 120.164, scaled fitness: 120.164\n",
            "gaft.ConsoleOutput   INFO     Generation: 11, best fitness: 120.164, scaled fitness: 120.164\n",
            "gaft.ConsoleOutput   INFO     Generation: 12, best fitness: 120.164, scaled fitness: 120.164\n",
            "gaft.ConsoleOutput   INFO     Generation: 13, best fitness: 120.164, scaled fitness: 120.164\n",
            "gaft.ConsoleOutput   INFO     Generation: 14, best fitness: 120.164, scaled fitness: 120.164\n",
            "gaft.ConsoleOutput   INFO     Generation: 15, best fitness: 120.164, scaled fitness: 120.164\n",
            "gaft.ConsoleOutput   INFO     Generation: 16, best fitness: 120.164, scaled fitness: 120.164\n",
            "gaft.ConsoleOutput   INFO     Generation: 17, best fitness: 120.164, scaled fitness: 120.164\n",
            "gaft.ConsoleOutput   INFO     Generation: 18, best fitness: 120.164, scaled fitness: 120.164\n",
            "gaft.ConsoleOutput   INFO     Generation: 19, best fitness: 120.164, scaled fitness: 120.164\n",
            "gaft.ConsoleOutput   INFO     Generation: 20, best fitness: 120.164, scaled fitness: 120.164\n",
            "gaft.ConsoleOutput   INFO     Optimal solution: ([1.917724609375], 120.16441203741124)\n",
            "gaft.FitnessStore   INFO     Best fitness values are written to best_fit.py\n",
            "\n",
            "GAFT運算結果==========\n",
            "h = 1.917724609375\n",
            "V = 120.16441203741124\n"
          ],
          "name": "stdout"
        }
      ]
    }
  ]
}