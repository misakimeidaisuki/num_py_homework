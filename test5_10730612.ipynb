{
 "cells": [
  {
   "cell_type": "markdown",
   "metadata": {},
   "source": [
    "Problem:\n",
    "\n",
    "function : $ f(x)=x^2$   $[0,2]$   $n=4$\n",
    "\n"
   ]
  },
  {
   "cell_type": "markdown",
   "metadata": {},
   "source": [
    "Calcalate Left Riemon sum\n",
    "\n",
    "Let $ f:[0,2]\\rightarrow R $ be a function defined on a closed interval $ [0,2] $ of the real numbers, $R$ , and\n",
    "$$ P=\\left\\{[0, 0.5],[0.5, 1],[1, 1.5],[1.5, 2]\\right\\}$$,\n",
    "be a partition of I, where\n",
    "$$a=0<0.5<1<1.5<2=b$$.\n",
    "A Riemann sum $S$ of $f$ over $I$ with partition $P$ is defined as\n",
    "$$ S=\\sum _{i=1}^{4}f(x_{i}^{*})\\,\\Delta x_{i} $$\n",
    "where $\\Delta x_{i}=x_{i}-x_{i-1}  \\Delta x_{i}=x_{i}-x_{i-1}$ and an $ x_{i}^{*}=x_{i-1}$"
   ]
  },
  {
   "cell_type": "code",
   "execution_count": 34,
   "metadata": {},
   "outputs": [
    {
     "data": {
      "image/png": "[encoded data removed]",
      "text/plain": [
       "<matplotlib.figure.Figure at 0x7fca81098eb8>"
      ]
     },
     "metadata": {},
     "output_type": "display_data"
    },
    {
     "data": {
      "text/plain": [
       "array([0.        , 0.04081633, 0.08163265, 0.12244898, 0.16326531,\n",
       "       0.20408163, 0.24489796, 0.28571429, 0.32653061, 0.36734694,\n",
       "       0.40816327, 0.44897959, 0.48979592, 0.53061224, 0.57142857,\n",
       "       0.6122449 , 0.65306122, 0.69387755, 0.73469388, 0.7755102 ,\n",
       "       0.81632653, 0.85714286, 0.89795918, 0.93877551, 0.97959184,\n",
       "       1.02040816, 1.06122449, 1.10204082, 1.14285714, 1.18367347,\n",
       "       1.2244898 , 1.26530612, 1.30612245, 1.34693878, 1.3877551 ,\n",
       "       1.42857143, 1.46938776, 1.51020408, 1.55102041, 1.59183673,\n",
       "       1.63265306, 1.67346939, 1.71428571, 1.75510204, 1.79591837,\n",
       "       1.83673469, 1.87755102, 1.91836735, 1.95918367, 2.        ])"
      ]
     },
     "execution_count": 34,
     "metadata": {},
     "output_type": "execute_result"
    }
   ],
   "source": [
    "import numpy as np\n",
    "import matplotlib.pyplot as plt\n",
    "\n",
    "x = np.linspace(0, 2, 50)\n",
    "y1 = x**2\n",
    "\n",
    "plt.figure()\n",
    "#set x limits\n",
    "plt.xlim((0, 2))\n",
    "plt.ylim((0, 4))\n",
    "\n",
    "# set new sticks\n",
    "new_sticks = np.linspace(0, 2, 5)\n",
    "plt.xticks(new_sticks)\n",
    "# set tick labels\n",
    "plt.yticks(np.arange(0, 5, step=1))\n",
    "\n",
    "# set line styles\n",
    "l1, = plt.plot(x, y1, label='f(x)= x^2', color=\"red\")\n",
    "plt.legend(loc='upper left')\n",
    "\n",
    "x2 = np.linspace(0, 2, 5)\n",
    "y2 = np.power(x2,2)\n",
    "plt.bar(x2, y2, align='edge', width=0.5, alpha=0.2, edgecolor=\"blue\")\n",
    "\n",
    "plt.show()\n",
    "x"
   ]
  },
  {
   "cell_type": "markdown",
   "metadata": {},
   "source": [
    "Calcalate Right Riemon sum\n",
    "\n",
    "$$\\Delta x\\left[f(0)+f(0+0.5)+f(0+1)+f(0+1.5)\\right].$$"
   ]
  },
  {
   "cell_type": "code",
   "execution_count": 36,
   "metadata": {},
   "outputs": [
    {
     "name": "stdout",
     "output_type": "stream",
     "text": [
      "x :  [0.  0.5 1.  1.5]\n",
      "ans :  1.75\n"
     ]
    }
   ],
   "source": [
    "a=0\n",
    "b=2\n",
    "n=4\n",
    "\n",
    "deltax=(b-a)/n\n",
    "deltax\n",
    "\n",
    "x1 = np.arange(a, b, deltax)\n",
    "y1 = x1**2\n",
    "\n",
    "result1 = deltax*np.sum(y1)\n",
    "\n",
    "print(\"x : \", x1)\n",
    "print(\"ans : \", result1)"
   ]
  },
  {
   "cell_type": "markdown",
   "metadata": {},
   "source": [
    "Calcalate Right Riemon sum\n",
    "\n",
    "$$ \\Delta x\\left[f(0+0.5)+f(0+1)+f(0+1.5)+f(2)\\right].$$"
   ]
  },
  {
   "cell_type": "code",
   "execution_count": 10,
   "metadata": {},
   "outputs": [
    {
     "data": {
      "image/png": "[encoded data removed]",
      "text/plain": [
       "<matplotlib.figure.Figure at 0x7f115832fef0>"
      ]
     },
     "metadata": {},
     "output_type": "display_data"
    },
    {
     "data": {
      "text/plain": [
       "array([0.        , 0.04081633, 0.08163265, 0.12244898, 0.16326531,\n",
       "       0.20408163, 0.24489796, 0.28571429, 0.32653061, 0.36734694,\n",
       "       0.40816327, 0.44897959, 0.48979592, 0.53061224, 0.57142857,\n",
       "       0.6122449 , 0.65306122, 0.69387755, 0.73469388, 0.7755102 ,\n",
       "       0.81632653, 0.85714286, 0.89795918, 0.93877551, 0.97959184,\n",
       "       1.02040816, 1.06122449, 1.10204082, 1.14285714, 1.18367347,\n",
       "       1.2244898 , 1.26530612, 1.30612245, 1.34693878, 1.3877551 ,\n",
       "       1.42857143, 1.46938776, 1.51020408, 1.55102041, 1.59183673,\n",
       "       1.63265306, 1.67346939, 1.71428571, 1.75510204, 1.79591837,\n",
       "       1.83673469, 1.87755102, 1.91836735, 1.95918367, 2.        ])"
      ]
     },
     "execution_count": 10,
     "metadata": {},
     "output_type": "execute_result"
    }
   ],
   "source": [
    "import numpy as np\n",
    "import matplotlib.pyplot as plt\n",
    "\n",
    "x = np.linspace(0, 2, 50)\n",
    "y1 = x**2\n",
    "\n",
    "plt.figure()\n",
    "#set x limits\n",
    "plt.xlim((0, 2))\n",
    "plt.ylim((0, 4))\n",
    "\n",
    "# set new sticks\n",
    "new_sticks = np.linspace(0, 2, 5)\n",
    "plt.xticks(new_sticks)\n",
    "# set tick labels\n",
    "plt.yticks(np.arange(0, 5, step=1))\n",
    "\n",
    "# set line styles\n",
    "l1, = plt.plot(x, y1, label='f(x)= x^2', color=\"red\")\n",
    "plt.legend(loc='upper left')\n",
    "\n",
    "x2 = np.linspace(0, 2, 5)\n",
    "y2 = np.power(x2,2)\n",
    "x_r=x2[1:]\n",
    "y_r=y2[1:]\n",
    "plt.bar(x_r, y_r, align='edge', width=-0.5, alpha=0.2, edgecolor=\"blue\")\n",
    "\n",
    "plt.show()\n",
    "x"
   ]
  },
  {
   "cell_type": "code",
   "execution_count": 37,
   "metadata": {},
   "outputs": [
    {
     "name": "stdout",
     "output_type": "stream",
     "text": [
      "x :  [0.5 1.  1.5 2. ]\n",
      "ans :  3.75\n"
     ]
    }
   ],
   "source": [
    "x2 = np.arange(a+deltax, b+deltax, deltax)\n",
    "y2 = x2**2\n",
    "\n",
    "result2 = deltax*np.sum(y2)\n",
    "\n",
    "print(\"x : \", x2)\n",
    "print(\"ans : \", result2)"
   ]
  },
  {
   "cell_type": "markdown",
   "metadata": {},
   "source": [
    "Approximating f at the midpoint of intervals gives $ f(a +\\Delta x/2) $  for the first interval, for the next one $ f(a + 3\\Delta x/2)$, and so on until $f(b − \\Delta x/2)$. \n",
    "Summing up the areas gives\n",
    "$$ \\Delta x\\left[ f(a+ {\\tfrac {\\Delta x}{2}} )+f(a+{\\tfrac {2\\,\\Delta x}{2}}) +f(a+{\\tfrac {3\\,\\Delta x}{2}}) ) +f(a+{\\tfrac {4\\,\\Delta x}{2}}) \\right] $$"
   ]
  },
  {
   "cell_type": "code",
   "execution_count": 38,
   "metadata": {},
   "outputs": [
    {
     "data": {
      "image/png": "[encoded data removed]",
      "text/plain": [
       "<matplotlib.figure.Figure at 0x7f115831cb38>"
      ]
     },
     "metadata": {},
     "output_type": "display_data"
    }
   ],
   "source": [
    "import numpy as np\n",
    "import matplotlib.pyplot as plt\n",
    "\n",
    "x = np.linspace(0, 2, 50)\n",
    "y1 = x**2\n",
    "\n",
    "plt.figure()\n",
    "#set x limits\n",
    "plt.xlim((0, 2))\n",
    "plt.ylim((0, 4))\n",
    "\n",
    "# set new sticks\n",
    "new_sticks = np.linspace(0, 2, 5)\n",
    "plt.xticks(new_sticks)\n",
    "# set tick labels\n",
    "plt.yticks(np.arange(0, 5, step=1))\n",
    "\n",
    "# set line styles\n",
    "l1, = plt.plot(x, y1, label='f(x)= x^2', color=\"red\")\n",
    "plt.legend(loc='upper left')\n",
    "\n",
    "x = np.arange(a+deltax/2, b, deltax)\n",
    "x_mid = (x[:-1] + x[1:])/2 # Midpoints\n",
    "y_mid = x_mid**2\n",
    "\n",
    "plt.bar(x_mid, y_mid, align='edge', width=0.5, alpha=0.2, edgecolor=\"blue\")\n",
    "\n",
    "plt.show()"
   ]
  },
  {
   "cell_type": "code",
   "execution_count": 41,
   "metadata": {},
   "outputs": [
    {
     "name": "stdout",
     "output_type": "stream",
     "text": [
      "x :  [0.25 0.75 1.25 1.75]\n",
      "ans :  2.625\n"
     ]
    }
   ],
   "source": [
    "x = np.arange(a+deltax/2, b, deltax)\n",
    "y1=x**2\n",
    "result2 = deltax*np.sum(y1)\n",
    "\n",
    "print(\"x : \", x)\n",
    "print(\"ans : \", result2)"
   ]
  },
  {
   "cell_type": "code",
   "execution_count": null,
   "metadata": {},
   "outputs": [],
   "source": []
  }
 ],
 "metadata": {
  "kernelspec": {
   "display_name": "Python 3",
   "language": "python",
   "name": "python3"
  },
  "language_info": {
   "codemirror_mode": {
    "name": "ipython",
    "version": 3
   },
   "file_extension": ".py",
   "mimetype": "text/x-python",
   "name": "python",
   "nbconvert_exporter": "python",
   "pygments_lexer": "ipython3",
   "version": "3.6.6"
  }
 },
 "nbformat": 4,
 "nbformat_minor": 2
}
