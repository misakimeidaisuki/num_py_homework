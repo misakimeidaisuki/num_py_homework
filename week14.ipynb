{
  "nbformat": 4,
  "nbformat_minor": 0,
  "metadata": {
    "colab": {
      "name": "week14.ipynb",
      "version": "0.3.2",
      "provenance": [],
      "collapsed_sections": []
    },
    "kernelspec": {
      "name": "python3",
      "display_name": "Python 3"
    }
  },
  "cells": [
    {
      "metadata": {
        "id": "q7JOt9BUI2cK",
        "colab_type": "code",
        "colab": {
          "base_uri": "https://localhost:8080/",
          "height": 109
        },
        "outputId": "dd1c9d28-1770-4c8b-ad54-3e12ae033021"
      },
      "cell_type": "code",
      "source": [
        "from numpy.linalg import *\n",
        "import numpy as np\n",
        "\n",
        "#A\n",
        "A = np.array([[ 3,  2, -1], \n",
        "              [ 2, -2,  4], \n",
        "              [-1, .5, -1]])\n",
        "\n",
        "b = np.array([1,-2,0])\n",
        "\n",
        "Ainv = inv(A)\n",
        "\n",
        "x = np.dot(Ainv,b)\n",
        "solve_x = solve(A,b)\n",
        "#反轉\n",
        "print(Ainv)\n",
        "#反轉相乘\n",
        "print(x)\n",
        "#程式解\n",
        "print(solve_x)"
      ],
      "execution_count": 14,
      "outputs": [
        {
          "output_type": "stream",
          "text": [
            "[[ 1.48029737e-16 -5.00000000e-01 -2.00000000e+00]\n",
            " [ 6.66666667e-01  1.33333333e+00  4.66666667e+00]\n",
            " [ 3.33333333e-01  1.16666667e+00  3.33333333e+00]]\n",
            "[ 1. -2. -2.]\n",
            "[ 1. -2. -2.]\n"
          ],
          "name": "stdout"
        }
      ]
    }
  ]
}